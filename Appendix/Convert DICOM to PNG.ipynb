{
 "cells": [
  {
   "cell_type": "code",
   "execution_count": 2,
   "metadata": {},
   "outputs": [],
   "source": [
    "import pydicom\n",
    "import matplotlib.image as image\n",
    "import png\n",
    "import pandas as pd\n",
    "from os.path import join"
   ]
  },
  {
   "cell_type": "code",
   "execution_count": 25,
   "metadata": {},
   "outputs": [],
   "source": [
    "def path_generator(input_data, folder_path, image_type): #  generate the complete path way for each dicom file\n",
    "    # input_data is the csv file\n",
    "    # folder_path is the path that the dicom file storage\n",
    "    # image_type should be string, 'image file path' or 'cropped image file path' or 'ROI mask file path'\n",
    "    path_list = []\n",
    "    for i in range(len(input_data)):\n",
    "        path = input_data[image_type][i].strip()\n",
    "        path = join(folder_path + path)\n",
    "        path_list.append(path)\n",
    "    return path_list"
   ]
  },
  {
   "cell_type": "code",
   "execution_count": 30,
   "metadata": {},
   "outputs": [],
   "source": [
    "pathway = '.../CBIS-DDSM/'"
   ]
  },
  {
   "cell_type": "code",
   "execution_count": 31,
   "metadata": {},
   "outputs": [],
   "source": [
    "data = path_generator(df,pathway,'ROI mask file path')"
   ]
  },
  {
   "cell_type": "code",
   "execution_count": 32,
   "metadata": {},
   "outputs": [],
   "source": [
    "def read_dicom(path): # read the image information in dicom file\n",
    "    data = []\n",
    "    for i in path:\n",
    "        image = pydicom.dcmread(i).pixel_array\n",
    "        data.append(image)\n",
    "    return data"
   ]
  },
  {
   "cell_type": "code",
   "execution_count": null,
   "metadata": {},
   "outputs": [],
   "source": [
    "image_set = read_dicom(data)"
   ]
  },
  {
   "cell_type": "code",
   "execution_count": null,
   "metadata": {},
   "outputs": [],
   "source": [
    "def convert_png(inputdata, savepath, index_num): # convert dicom image data into png and save \n",
    "    shape = inputdata.shape\n",
    "    image_2d = inputdata.astype(float)\n",
    "    image_2d_scaled = (np.maximum(image_2d,0) / image_2d.max()) * 255.0\n",
    "    image_2d_scaled = np.uint8(image_2d_scaled)\n",
    "    \n",
    "    with open(join(savepath + str(index_num) + '.png'), 'wb') as png_file:\n",
    "        w = png.Writer(shape[1], shape[0], greyscale=True)\n",
    "        w.write(png_file, image_2d_scaled)"
   ]
  },
  {
   "cell_type": "code",
   "execution_count": null,
   "metadata": {},
   "outputs": [],
   "source": [
    "savepath = ('.../Desktop/PNG/Train/')"
   ]
  },
  {
   "cell_type": "code",
   "execution_count": null,
   "metadata": {},
   "outputs": [],
   "source": [
    "for i in range(len(dataset_pixel)):\n",
    "    convert_png(dataset_pixel[i], savepath, i)"
   ]
  }
 ],
 "metadata": {
  "kernelspec": {
   "display_name": "Python 3",
   "language": "python",
   "name": "python3"
  },
  "language_info": {
   "codemirror_mode": {
    "name": "ipython",
    "version": 3
   },
   "file_extension": ".py",
   "mimetype": "text/x-python",
   "name": "python",
   "nbconvert_exporter": "python",
   "pygments_lexer": "ipython3",
   "version": "3.6.5"
  }
 },
 "nbformat": 4,
 "nbformat_minor": 2
}
