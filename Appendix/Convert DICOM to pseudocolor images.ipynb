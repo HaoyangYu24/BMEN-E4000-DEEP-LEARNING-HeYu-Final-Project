{
 "cells": [
  {
   "cell_type": "code",
   "execution_count": null,
   "metadata": {},
   "outputs": [],
   "source": [
    "import pandas as pd\n",
    "import numpy as np\n",
    "import matplotlib.pyplot as plt\n",
    "import matplotlib.image as image\n",
    "import pydicom\n",
    "import png\n",
    "import csv\n",
    "from os.path import join"
   ]
  },
  {
   "cell_type": "code",
   "execution_count": null,
   "metadata": {},
   "outputs": [],
   "source": [
    "csv_path = './CSV_file.csv'\n",
    "\n",
    "df = pd.read_csv(csv_path)\n",
    "df.head(10)"
   ]
  },
  {
   "cell_type": "code",
   "execution_count": null,
   "metadata": {},
   "outputs": [],
   "source": [
    "def convert_jpg(inputdata,savepath,index_num):\n",
    "    image.imsave(join(savepath + str(index_num)) + '.jpg',inputdata)"
   ]
  },
  {
   "cell_type": "code",
   "execution_count": null,
   "metadata": {},
   "outputs": [],
   "source": [
    "def checkmask (dicdata):\n",
    "    pd_dic = pd.DataFrame(dicdata)\n",
    "    sum_zero = (pd_dic == 0).sum(axis=1).sum()\n",
    "    sum_size = pd_dic.shape[0]*pd_dic.shape[1]\n",
    "    percentage = sum_zero/sum_size\n",
    "    return percentage"
   ]
  },
  {
   "cell_type": "code",
   "execution_count": null,
   "metadata": {},
   "outputs": [],
   "source": [
    "def dcmtojpg(input_data, folder_path, save_path):   \n",
    "# input_data: csv file (should be read by pandas, type Dataframe), \n",
    "# folder_path: the path of dicom dataset, \n",
    "# save_path: the path to save pseudo\n",
    "\n",
    "    index_sum = len(input_data) # calculate the length of the dataset\n",
    "    for i in range(index_sum):\n",
    "        mask_path = input_data['ROI mask file path'][i].strip()  # strip the '/n' in the file path of csv file\n",
    "        mass_path = input_data['cropped image file path'][i].strip()\n",
    "        \n",
    "        mask_path = join(folder_path + mask_path) # creat the complete path of file\n",
    "        mass_path = join(folder_path + mass_path)\n",
    "        \n",
    "        data = pydicom.dcmread(mask_path).pixel_array  # read the image information of dicom file\n",
    "        \n",
    "        if checkmask(data) > 0.75:  # check the data and convert it into png, then save to the save path\n",
    "            data = pydicom.dcmread(mass_path).pixel_array\n",
    "            convert_jpg(data,save_path,i)\n",
    "            \n",
    "        else:\n",
    "            convert_jpg(data,save_path,i)"
   ]
  }
 ],
 "metadata": {
  "kernelspec": {
   "display_name": "Python 3",
   "language": "python",
   "name": "python3"
  },
  "language_info": {
   "codemirror_mode": {
    "name": "ipython",
    "version": 3
   },
   "file_extension": ".py",
   "mimetype": "text/x-python",
   "name": "python",
   "nbconvert_exporter": "python",
   "pygments_lexer": "ipython3",
   "version": "3.6.8"
  }
 },
 "nbformat": 4,
 "nbformat_minor": 2
}
